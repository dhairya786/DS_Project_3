{
 "cells": [
  {
   "cell_type": "code",
   "execution_count": 1,
   "metadata": {},
   "outputs": [
    {
     "name": "stdout",
     "output_type": "stream",
     "text": [
      "Requirement already satisfied: pyarrow in /home/ec2-user/anaconda3/envs/python3/lib/python3.6/site-packages (2.0.0)\n",
      "Requirement already satisfied: numpy>=1.14 in /home/ec2-user/anaconda3/envs/python3/lib/python3.6/site-packages (from pyarrow) (1.18.1)\n",
      "\u001b[33mWARNING: You are using pip version 20.0.2; however, version 20.3.3 is available.\n",
      "You should consider upgrading via the '/home/ec2-user/anaconda3/envs/python3/bin/python -m pip install --upgrade pip' command.\u001b[0m\n",
      "Requirement already satisfied: fastcore in /home/ec2-user/anaconda3/envs/python3/lib/python3.6/site-packages (1.3.12)\n",
      "Requirement already satisfied: pip in /home/ec2-user/anaconda3/envs/python3/lib/python3.6/site-packages (from fastcore) (20.0.2)\n",
      "Requirement already satisfied: packaging in /home/ec2-user/anaconda3/envs/python3/lib/python3.6/site-packages (from fastcore) (20.1)\n",
      "Requirement already satisfied: six in /home/ec2-user/anaconda3/envs/python3/lib/python3.6/site-packages (from packaging->fastcore) (1.14.0)\n",
      "Requirement already satisfied: pyparsing>=2.0.2 in /home/ec2-user/anaconda3/envs/python3/lib/python3.6/site-packages (from packaging->fastcore) (2.4.6)\n",
      "\u001b[33mWARNING: You are using pip version 20.0.2; however, version 20.3.3 is available.\n",
      "You should consider upgrading via the '/home/ec2-user/anaconda3/envs/python3/bin/python -m pip install --upgrade pip' command.\u001b[0m\n",
      "Requirement already satisfied: fastprogress in /home/ec2-user/anaconda3/envs/python3/lib/python3.6/site-packages (1.0.0)\n",
      "Requirement already satisfied: numpy in /home/ec2-user/anaconda3/envs/python3/lib/python3.6/site-packages (from fastprogress) (1.18.1)\n",
      "\u001b[33mWARNING: You are using pip version 20.0.2; however, version 20.3.3 is available.\n",
      "You should consider upgrading via the '/home/ec2-user/anaconda3/envs/python3/bin/python -m pip install --upgrade pip' command.\u001b[0m\n"
     ]
    }
   ],
   "source": [
    "!pip install pyarrow\n",
    "!pip install fastcore\n",
    "!pip install fastprogress"
   ]
  },
  {
   "cell_type": "code",
   "execution_count": 2,
   "metadata": {},
   "outputs": [
    {
     "name": "stderr",
     "output_type": "stream",
     "text": [
      "/home/ec2-user/anaconda3/envs/python3/lib/python3.6/site-packages/ipykernel/__main__.py:21: SettingWithCopyWarning: \n",
      "A value is trying to be set on a copy of a slice from a DataFrame\n",
      "\n",
      "See the caveats in the documentation: https://pandas.pydata.org/pandas-docs/stable/user_guide/indexing.html#returning-a-view-versus-a-copy\n"
     ]
    }
   ],
   "source": [
    "import pandas as pd\n",
    "\n",
    "def choose_stations():\n",
    "    first_year_data = \"https://noaa-ghcn-pds.s3.amazonaws.com/csv/1950.csv\"\n",
    "    second_year_data = \"https://noaa-ghcn-pds.s3.amazonaws.com/csv/2019.csv\"\n",
    "\n",
    "    first_df = pd.read_csv(first_year_data, header=None, usecols=[0], names=['station_id'])\n",
    "    second_df = pd.read_csv(second_year_data, header=None, usecols=[0], names=['station_id'])\n",
    "\n",
    "    stations = pd.read_fwf('http://noaa-ghcn-pds.s3.amazonaws.com/ghcnd-stations.txt',\n",
    "                           colspecs=[(0, 11), (12, 20), (21, 30), (31, 37), (38, 40), (41, 71), (72, 75), (76, 79), (80, 85)],\n",
    "                           header=None)\n",
    "    stations.columns=['id', 'lat', 'lon', 'elevation', 'state', 'name', 'gsn_flag', 'hcn', 'wmo_id']\n",
    "\n",
    "    persistent_stations = set(first_df.station_id).intersection(second_df.station_id)\n",
    "    intl_airport_stations = set(stations[stations.name.str.contains('INTL')].id)\n",
    "    southern_stations = set(stations[stations.lat<-55].sample(10).id)\n",
    "    mountain_stations = set(stations[stations.elevation>3000].id)\n",
    "    stations_to_keep  = persistent_stations.union(intl_airport_stations).union(southern_stations).union(mountain_stations)\n",
    "    potential_keeps = stations[stations.id.apply(lambda s: s in stations_to_keep)]\n",
    "    potential_keeps.loc['rounded_lat', :] = potential_keeps.lat.round(1)\n",
    "    potential_keeps.loc['rounded_lon', :] = potential_keeps.lon.round(1)\n",
    "    keeps = potential_keeps[['id', 'lat', 'lon', 'elevation', 'state', 'name', 'gsn_flag', 'wmo_id']]\n",
    "    return keeps\n",
    "\n",
    "stations_to_keep = choose_stations()"
   ]
  },
  {
   "cell_type": "code",
   "execution_count": 3,
   "metadata": {},
   "outputs": [],
   "source": [
    "def read_data_file(year):\n",
    "    url = f\"https://noaa-ghcn-pds.s3.amazonaws.com/csv/{year}.csv\"\n",
    "    df = pd.read_csv(url, \n",
    "                     header=None,\n",
    "                     usecols=[0, 1, 2, 3, 4],\n",
    "                     names=['station_id', 'date', 'measurement', 'value', 'measurement_flag'])\n",
    "    df = df[df.station_id.isin(stations_to_keep.id)]\n",
    "    df.set_index(['station_id', 'date'], inplace=True)\n",
    "    \n",
    "    max_temps = df.query('measurement == \"TMAX\"').value\n",
    "    min_temps = df.query('measurement == \"TMIN\"').value\n",
    "    precip = df.query('measurement == \"PRCP\"').value\n",
    "    snow_depth = df.query('measurement == \"SNWD\"').value\n",
    "    snowfall = df.query('measurement == \"SNOW\"').value\n",
    "    out = pd.DataFrame({'max_temp_c': max_temps/10,\n",
    "                   'min_temp_c': min_temps/10,\n",
    "                   'precip_mm': precip,\n",
    "                   'snow_depth_mm': snow_depth,\n",
    "                   'snowfall': snowfall\n",
    "                    })\n",
    "    out.dropna(subset=['max_temp_c', 'min_temp_c'], inplace=True)\n",
    "    return out"
   ]
  },
  {
   "cell_type": "code",
   "execution_count": 10,
   "metadata": {},
   "outputs": [
    {
     "data": {
      "text/html": [],
      "text/plain": [
       "<IPython.core.display.HTML object>"
      ]
     },
     "metadata": {},
     "output_type": "display_data"
    },
    {
     "name": "stdout",
     "output_type": "stream",
     "text": [
      "Data munging time was 799 seconds\n"
     ]
    }
   ],
   "source": [
    "from fastcore.parallel import parallel\n",
    "from time import time\n",
    "a=time()\n",
    "big_df = pd.concat(parallel(f=read_data_file,\n",
    "                         items=range(1900, 2020),\n",
    "                         n_workers=20,\n",
    "                         progress=True)).reset_index()\n",
    "b=time()\n",
    "print(f\"Data munging time was {int(b-a)} seconds\")\n",
    "big_df.to_parquet('weather_1900_to_2020.parquet', index=False)\n",
    "big_df.to_csv('weather_1900_to_2020.csv', index=False)"
   ]
  },
  {
   "cell_type": "code",
   "execution_count": 11,
   "metadata": {},
   "outputs": [],
   "source": [
    "import sagemaker\n",
    "\n",
    "s3_path_to_parquet_data = sagemaker.Session().upload_data(bucket='weather-bucket', \n",
    "                                                          path='weather_1900_to_2020.parquet',\n",
    "                                                          key_prefix='weather_1900_to_2020.parquet')\n",
    "\n",
    "s3_path_to_parquet_data = sagemaker.Session().upload_data(bucket='weather-bucket', \n",
    "                                                          path='weather_1900_to_2020.csv',\n",
    "                                                          key_prefix='weather_1900_to_2020.csv')\n",
    "\n"
   ]
  }
 ],
 "metadata": {
  "kernelspec": {
   "display_name": "Python 3",
   "language": "python",
   "name": "python3"
  },
  "language_info": {
   "codemirror_mode": {
    "name": "ipython",
    "version": 3
   },
   "file_extension": ".py",
   "mimetype": "text/x-python",
   "name": "python",
   "nbconvert_exporter": "python",
   "pygments_lexer": "ipython3",
   "version": "3.8.5"
  }
 },
 "nbformat": 4,
 "nbformat_minor": 4
}
